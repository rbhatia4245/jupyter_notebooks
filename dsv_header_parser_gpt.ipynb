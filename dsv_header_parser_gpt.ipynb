{
 "cells": [
  {
   "cell_type": "code",
   "execution_count": null,
   "id": "d45e1227",
   "metadata": {},
   "outputs": [],
   "source": [
    "import requests\n",
    "import openai"
   ]
  },
  {
   "cell_type": "code",
   "execution_count": null,
   "id": "16226c67",
   "metadata": {},
   "outputs": [],
   "source": [
    "# input dsv file where first line contains headers separated by a delimiter\n",
    "# output - tuple of text elements explaining each header\n",
    "#!pip install -q openai --remove comment if openai is not installed--"
   ]
  },
  {
   "cell_type": "code",
   "execution_count": null,
   "id": "b8f82df1",
   "metadata": {},
   "outputs": [],
   "source": [
    "\n",
    "def generate_prompt_text(header_list, domain):\n",
    "    \"\"\"Generates a list of prompts by filling in a query template for each header in the given header list.\n",
    "\n",
    "    Args:\n",
    "        header_list (list): A list of header names.\n",
    "        domain (str): The context or domain for the headers.\n",
    "\n",
    "    Returns:\n",
    "        list: A list of prompts with placeholders replaced by the headers and domain.\n",
    "    \"\"\"\n",
    "    prompt_list = []\n",
    "    query = 'Briefly explain the meaning and significance of {header} in the context of {domain}.'\n",
    "    for header in header_list:\n",
    "        prompt = query.format(header=header,domain=domain)\n",
    "        prompt_list.append(prompt)\n",
    "    return prompt_list\n",
    "    \n",
    "def explain_headers(filename, delimiter, domain):\n",
    "    \"\"\"Reads a file, extracts headers, generates prompts, and uses OpenAI's Completion API\n",
    "    to get definitions for the headers.\n",
    "\n",
    "    Args:\n",
    "        filename (str): The name of the file to read headers from.\n",
    "        delimiter (str): The delimiter used in the file to separate headers.\n",
    "        domain (str): The context or domain for the headers.\n",
    "\n",
    "    Returns:\n",
    "        tuple: A tuple containing the defined headers as strings.\n",
    "    \"\"\"\n",
    "    with open(filename, \"r\") as fileobject:\n",
    "        header_line = fileobject.readline().strip()\n",
    "        header_list = header_line.split(delimiter)\n",
    "        prompts = generate_prompt_text(header_list, domain)\n",
    "        openai.api_key = '{your_api_key}'\n",
    "        messages = [ {\"role\": \"system\", \"content\": \n",
    "              \"You are a intelligent assistant.\"} ]\n",
    "        headers_defined = []\n",
    "        for input_prompt in prompts:\n",
    "                response = openai.Completion.create(\n",
    "                    model = \"text-davinci-003\",\n",
    "                    prompt=input_prompt,\n",
    "                    temperature=0.5,\n",
    "                    max_tokens = 150\n",
    "                )\n",
    "                header_defined = (response['choices'][0]['text']).strip(\"\\n\")\n",
    "                headers_defined.append(header_defined)\n",
    "        return tuple(headers_defined)"
   ]
  },
  {
   "cell_type": "code",
   "execution_count": null,
   "id": "60fc0d0b",
   "metadata": {
    "scrolled": false
   },
   "outputs": [],
   "source": [
    "# example usage\n",
    "filename=r\"ToyotaCorolla(2).csv\"\n",
    "delimiter = \",\"\n",
    "domain = \"cars\"\n",
    "print(explain_headers(filename,delimiter,domain))"
   ]
  },
  {
   "cell_type": "code",
   "execution_count": null,
   "id": "7acb7e19",
   "metadata": {},
   "outputs": [],
   "source": []
  }
 ],
 "metadata": {
  "kernelspec": {
   "display_name": "Python 3 (ipykernel)",
   "language": "python",
   "name": "python3"
  },
  "language_info": {
   "codemirror_mode": {
    "name": "ipython",
    "version": 3
   },
   "file_extension": ".py",
   "mimetype": "text/x-python",
   "name": "python",
   "nbconvert_exporter": "python",
   "pygments_lexer": "ipython3",
   "version": "3.9.13"
  }
 },
 "nbformat": 4,
 "nbformat_minor": 5
}
